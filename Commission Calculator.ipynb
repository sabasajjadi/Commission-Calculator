{
 "cells": [
  {
   "cell_type": "markdown",
   "metadata": {},
   "source": [
    "## Commission Calculator\n"
   ]
  },
  {
   "cell_type": "markdown",
   "metadata": {},
   "source": [
    "### Goal: Calculate the total commission earned by a sales rep for a given period of time\n",
    "Author: Saba Sajjadi<br>\n",
    "Date: 3/29/2023"
   ]
  },
  {
   "cell_type": "markdown",
   "metadata": {},
   "source": [
    "### Importing required python packages"
   ]
  },
  {
   "cell_type": "code",
   "execution_count": 1,
   "metadata": {},
   "outputs": [],
   "source": [
    "import pandas as pd\n",
    "import json\n",
    "from datetime import datetime"
   ]
  },
  {
   "cell_type": "markdown",
   "metadata": {},
   "source": [
    "In order to create a commission calculator, I wrote two functions. The first one is called load_dataframes(), which is a helper function that checks if datasets were imported successfully. The second function is called total_commission(), which takes sales_rep_name, start_date, and end_date as inputs and returns the total commission amount based on the input criteria."
   ]
  },
  {
   "cell_type": "code",
   "execution_count": 14,
   "metadata": {},
   "outputs": [],
   "source": [
    "def load_dataframes():\n",
    "    try:\n",
    "        # Load the datasets as dataframes\n",
    "        with open('Deals.json') as f:\n",
    "            deals = pd.read_json(f)\n",
    "        with open('Products.json') as f:\n",
    "            products = pd.read_json(f)\n",
    "        return deals, products\n",
    "    except FileNotFoundError:\n",
    "        print(\"One or both of the data files are missing.\")\n",
    "        return None, None\n",
    "\n",
    "\n",
    "def total_commission(sales_rep_name, start_date, end_date):\n",
    "    # Load the datasets as dataframes\n",
    "    deals, products = load_dataframes() #calling the load_dataframes function \n",
    "    \n",
    "    if deals is None or products is None:\n",
    "        return None\n",
    "    \n",
    "    # Check if the sales rep name is valid\n",
    "    if sales_rep_name not in deals['sales_rep_name'].unique():\n",
    "        print(f\"{sales_rep_name} is not a valid sales rep name.\")\n",
    "        return None\n",
    "    \n",
    "    # Check if the start date and end date are valid dates\n",
    "    try:\n",
    "        start_date = pd.to_datetime(start_date)\n",
    "        end_date = pd.to_datetime(end_date)\n",
    "    except ValueError:\n",
    "        print(\"The start date or end date is not a valid date.\")\n",
    "        return None\n",
    "    \n",
    "    # Filter the deals dataframe based on the sales rep name and date range\n",
    "    deals = deals[(deals['sales_rep_name'] == sales_rep_name) & (deals['date'] >= start_date) & (deals['date'] <= end_date)]\n",
    "\n",
    "    # Merge the filtered deals dataframe with the products dataframe\n",
    "    merged = pd.merge(deals, products, left_on='product_id', right_on='id', how='left')\n",
    "\n",
    "    # Calculate the commission for each sale\n",
    "    merged['commission'] = merged['quantity_products_sold'] * merged['product_amount'] * merged['commission_rate']\n",
    "\n",
    "    # Group the merged dataframe by sales rep name and sum the commissions\n",
    "    result = merged.groupby('sales_rep_name')['commission'].sum().get(sales_rep_name, 0)\n",
    "\n",
    "    return result\n"
   ]
  },
  {
   "cell_type": "code",
   "execution_count": 15,
   "metadata": {},
   "outputs": [
    {
     "name": "stdout",
     "output_type": "stream",
     "text": [
      "total_commission(sales_rep_name='Ian', start_date='2023-01-01', end_date='2023-04-30') = 55350.00\n"
     ]
    }
   ],
   "source": [
    "result = total_commission(sales_rep_name=\"Ian\", start_date=\"2023-01-01\", end_date=\"2023-04-30\")\n",
    "print(f\"total_commission(sales_rep_name='Ian', start_date='2023-01-01', end_date='2023-04-30') = {result:.2f}\")"
   ]
  },
  {
   "cell_type": "code",
   "execution_count": 16,
   "metadata": {},
   "outputs": [
    {
     "name": "stdout",
     "output_type": "stream",
     "text": [
      "total_commission(sales_rep_name='David', start_date='2023-04-01', end_date='2023-06-30') = 89540.00\n"
     ]
    }
   ],
   "source": [
    "# Test the function and print the result\n",
    "result = total_commission(sales_rep_name=\"David\", start_date=\"2023-04-01\", end_date=\"2023-06-30\")\n",
    "print(f\"total_commission(sales_rep_name='David', start_date='2023-04-01', end_date='2023-06-30') = {result:.2f}\")"
   ]
  },
  {
   "cell_type": "code",
   "execution_count": 17,
   "metadata": {},
   "outputs": [
    {
     "name": "stdout",
     "output_type": "stream",
     "text": [
      "total_commission(sales_rep_name='Poppy', start_date='2023-03-01', end_date='2023-5-30') = 118190.00\n"
     ]
    }
   ],
   "source": [
    "# Test the function and print the result\n",
    "result = total_commission(sales_rep_name=\"Poppy\", start_date=\"2023-03-01\", end_date=\"2023-5-30\")\n",
    "print(f\"total_commission(sales_rep_name='Poppy', start_date='2023-03-01', end_date='2023-5-30') = {result:.2f}\")"
   ]
  },
  {
   "cell_type": "markdown",
   "metadata": {},
   "source": [
    "# Unit Tests "
   ]
  },
  {
   "cell_type": "markdown",
   "metadata": {},
   "source": [
    "Below I wrote some test cases for the function above to try different input values and make sure function is running without any issues. "
   ]
  },
  {
   "cell_type": "code",
   "execution_count": 20,
   "metadata": {},
   "outputs": [],
   "source": [
    "def test_total_commission():\n",
    "    # Test case 1 - Valid input\n",
    "    result = total_commission(sales_rep_name=\"Ian\", start_date=\"2023-01-01\", end_date=\"2023-04-30\")\n",
    "    expected_result = 55350.00\n",
    "    assert result == expected_result, f\"Test case 1 failed: expected {expected_result:.2f} but got {result:.2f}\"\n",
    "\n",
    "    # Test case 2 - Non-existing sales rep\n",
    "    result = total_commission(sales_rep_name=\"Non-existing Sales Rep\", start_date=\"2023-01-01\", end_date=\"2023-04-30\")\n",
    "    expected_result = None \n",
    "    assert result == expected_result, f\"Test case 2 failed: expected {expected_result:.2f} but got {result:.2f}\"\n",
    "\n",
    "        \n",
    "    # Test case 3 - Non-existing date range\n",
    "    result = total_commission(sales_rep_name=\"Ian\", start_date=\"2024-01-01\", end_date=\"2024-04-30\")\n",
    "    expected_result = 0\n",
    "    assert result == expected_result, f\"Test case 3 failed: expected {expected_result:.2f} but got {result:.2f}\"\n",
    "\n",
    "\n",
    "    # Test case 4 - Invalid start date\n",
    "    result = total_commission(sales_rep_name=\"Ian\", start_date=\"Invalid date\", end_date=\"2023-04-30\")\n",
    "    expected_result = None\n",
    "    assert result == expected_result, f\"Test case 5 failed: expected {expected_result} but got {result}\"\n",
    "\n",
    "    # Test case 5 - Invalid end date\n",
    "    result = total_commission(sales_rep_name=\"Ian\", start_date=\"2023-01-01\", end_date=\"Invalid date\")\n",
    "    expected_result = None\n",
    "    assert result == expected_result, f\"Test case 6 failed: expected {expected_result} but got {result}\"\n",
    "\n",
    "    print(\"All test cases passed\")\n"
   ]
  },
  {
   "cell_type": "code",
   "execution_count": 21,
   "metadata": {},
   "outputs": [
    {
     "name": "stdout",
     "output_type": "stream",
     "text": [
      "Non-existing Sales Rep is not a valid sales rep name.\n",
      "The start date or end date is not a valid date.\n",
      "The start date or end date is not a valid date.\n",
      "All test cases passed\n"
     ]
    }
   ],
   "source": [
    "#call test_total_commission function above\n",
    "test_total_commission()\n"
   ]
  },
  {
   "cell_type": "markdown",
   "metadata": {},
   "source": [
    "# Error Handling"
   ]
  },
  {
   "cell_type": "markdown",
   "metadata": {},
   "source": [
    "The function below is the advanced version of the previous function. For example, it will ensure that the datasets are available and have the correct format, check if the sales rep name is valid or not, and so on(check comments in the code for more information)."
   ]
  },
  {
   "cell_type": "code",
   "execution_count": 22,
   "metadata": {},
   "outputs": [],
   "source": [
    "def total_commission_with_error_handling(sales_rep_name, start_date, end_date):\n",
    "    # Load the datasets as dataframes\n",
    "    try:\n",
    "        with open('Deals.json') as f:\n",
    "            deals = pd.read_json(f)\n",
    "        with open('Products.json') as f:\n",
    "            products = pd.read_json(f)\n",
    "    except FileNotFoundError:\n",
    "        print(\"One or both of the data files are missing.\")\n",
    "        return None\n",
    "    except ValueError:\n",
    "        print(\"One or both of the data files have an invalid format.\")\n",
    "        return None\n",
    "    \n",
    "    # Check if the sales rep name is valid\n",
    "    if sales_rep_name not in deals['sales_rep_name'].unique():\n",
    "        print(f\"{sales_rep_name} is not a valid sales rep name.\")\n",
    "        return None\n",
    "    \n",
    "    # Check if the start date and end date are valid dates\n",
    "    try:\n",
    "        start_date = pd.to_datetime(start_date)\n",
    "        end_date = pd.to_datetime(end_date)\n",
    "    except ValueError:\n",
    "        print(\"The start date or end date is not a valid date.\")\n",
    "        return None\n",
    "    \n",
    "    # Check if the start date is before the end date\n",
    "    if start_date > end_date:\n",
    "        print(\"The start date must be before the end date.\")\n",
    "        return None\n",
    "    \n",
    "    # Filter the deals dataframe based on the sales rep name and date range\n",
    "    deals = deals[(deals['sales_rep_name'] == sales_rep_name) & (deals['date'] >= start_date) & (deals['date'] <= end_date)]\n",
    "\n",
    "    # Merge the filtered deals dataframe with the products dataframe\n",
    "    merged = pd.merge(deals, products, left_on='product_id', right_on='id', how='left')\n",
    "\n",
    "    # Calculate the commission for each sale\n",
    "    merged['commission'] = merged['quantity_products_sold'] * merged['product_amount'] * merged['commission_rate']\n",
    "\n",
    "    # Group the merged dataframe by sales rep name and sum the commissions\n",
    "    result = merged.groupby('sales_rep_name')['commission'].sum().get(sales_rep_name, 0)\n",
    "\n",
    "    return result\n"
   ]
  },
  {
   "cell_type": "markdown",
   "metadata": {},
   "source": [
    "### Call \"total_commission_with_error_handling\" Function "
   ]
  },
  {
   "cell_type": "code",
   "execution_count": 23,
   "metadata": {},
   "outputs": [
    {
     "data": {
      "text/plain": [
       "55350.0"
      ]
     },
     "execution_count": 23,
     "metadata": {},
     "output_type": "execute_result"
    }
   ],
   "source": [
    "#example 1: All inputs are valid\n",
    "total_commission_with_error_handling(sales_rep_name=\"Ian\", start_date=\"2023-01-01\", end_date=\"2023-04-30\")"
   ]
  },
  {
   "cell_type": "code",
   "execution_count": 24,
   "metadata": {},
   "outputs": [
    {
     "name": "stdout",
     "output_type": "stream",
     "text": [
      "Saba is not a valid sales rep name.\n"
     ]
    }
   ],
   "source": [
    "#example 2: sales_rep_name is not valid\n",
    "total_commission_with_error_handling(sales_rep_name=\"Saba\", start_date=\"2023-01-01\", end_date=\"2023-04-30\")"
   ]
  },
  {
   "cell_type": "code",
   "execution_count": 25,
   "metadata": {},
   "outputs": [
    {
     "name": "stdout",
     "output_type": "stream",
     "text": [
      "The start date must be before the end date.\n"
     ]
    }
   ],
   "source": [
    "#example 3: start_date is greater than end_date\n",
    "total_commission_with_error_handling(sales_rep_name=\"Ian\", start_date=\"2025-01-01\", end_date=\"2023-04-30\")"
   ]
  }
 ],
 "metadata": {
  "kernelspec": {
   "display_name": "Python 3",
   "language": "python",
   "name": "python3"
  },
  "language_info": {
   "codemirror_mode": {
    "name": "ipython",
    "version": 3
   },
   "file_extension": ".py",
   "mimetype": "text/x-python",
   "name": "python",
   "nbconvert_exporter": "python",
   "pygments_lexer": "ipython3",
   "version": "3.8.3"
  }
 },
 "nbformat": 4,
 "nbformat_minor": 4
}
